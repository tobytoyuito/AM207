{
 "metadata": {
  "name": "",
  "signature": "sha256:ddd6f34475347faba560e25eb995f5af62daccf852f1d77c5fbc827d71e9fe66"
 },
 "nbformat": 3,
 "nbformat_minor": 0,
 "worksheets": [
  {
   "cells": [
    {
     "cell_type": "markdown",
     "metadata": {},
     "source": [
      "# **AM 207**: Homework 1"
     ]
    },
    {
     "cell_type": "markdown",
     "metadata": {},
     "source": [
      "_ _ _ _ _\n",
      "\n",
      "Verena Kaynig-Fittkau and Pavlos Protopapas  <br>\n",
      "Handed out: Thursday, February 5th, 2015<br>\n",
      "Due: 11.59 P.M. Wednesday February 11th, 2015\n",
      "\n",
      "### Instructions:\n",
      "\n",
      "+ Upload your answers in an ipython notebook to the dropbox on iSites, you can find the link on [our homepage](http://am207.github.io/2015/).\n",
      "\n",
      "+ We will provide you imports for your ipython notebook. For the first part of this course, please do not import additional libraries.\n",
      "\n",
      "+ Your individual submissions should use the following filenames: AM207_YOURNAME_HW1.ipynb\n",
      "\n",
      "+ Your code should be in code cells as part of your ipython notebook. Do not use a different language (or format). \n",
      "\n",
      "+ Please submit your notebook in an executed status, so that we can see all the results you computed. However, we will still run your code and all cells should reproduce the output when executed. \n",
      "\n",
      "+ If you have multiple files (e.g. you've added code files or images) create a tarball for all files in a single file and name it: AM207_YOURNAME_HW1.tar.gz or AM207_YOURNAME_HW1.zip\n",
      "\n",
      "\n",
      "### Lab time:\n",
      "\n",
      "+ This homework will be discussed in the lab on Friday 02/06, 9:30-11 in Cruft309.\n",
      "+ You can also go to the office hours. Times are announced on Piazza.\n",
      "\n",
      "### Survey:\n",
      "\n",
      "+ When you finished, please take one minute and answer [this survey](https://docs.google.com/forms/d/15XrAr2oY7exjXP4OSoLwuaKRFWWSy6WDa0w1AdTJu0Q/viewform?usp=send_form), so we know how long you spend on your homework.\n",
      "\n",
      "### Have Fun!\n",
      "_ _ _ _ _"
     ]
    },
    {
     "cell_type": "code",
     "collapsed": false,
     "input": [
      "import time\n",
      "import math\n",
      "import numpy as np\n",
      "\n",
      "%matplotlib inline\n",
      "import matplotlib.pyplot as plt\n",
      "\n",
      "# you don't have to use seaborn if you prefer plain matplotlib\n",
      "import seaborn as sns\n",
      "sns.set_style('white')\n",
      "sns.set_context('paper')"
     ],
     "language": "python",
     "metadata": {},
     "outputs": [],
     "prompt_number": 1
    },
    {
     "cell_type": "markdown",
     "metadata": {},
     "source": [
      "# Problem 1: \n",
      "\n",
      "Valentine's day is coming and Maria decided to design a nice gift for her loved one. As a nerdy statistics PhD, she first plotted her design in $\\mathcal{R}$, which is shown in Figure 1 below. A ruby ball with radius $r_1=1cm$ and density $\\rho_1=4g/ cm^3$ lies in the center, as a symbol of their love. The ball is sourrounded by a generalized cylinder that is made of crystal with density $\\rho_2=6g/cm^3$. The generalized cylinder has the form of an hourglass, symbolizing that their love is going to endure time until all eternity. \n",
      "\n",
      "Denote the center of the ruby ball to be $(x,y,z)=(0, 0, 0)$, the generalized cylinder is centered around the z-axis, and its radius is described by: $r(Z) = \\sqrt{1+|Z|}$ at level set $z=Z$, $-1\\leq Z\\leq 1$. Maria's boyfriend, Tom, a physics PhD, is curious about the moment of inertia of this precious token. Please help Maria and Tom to calculate the moment of inertia of the gift corresponding to the rotation about the z-axis.\n",
      "\n",
      "Carry out the calculation using Monte Carlo sampling of the moment of inertia integral.\n",
      "$$I=\\int dx\\int dy\\int dz\\rho(x,y,z) r^2(x,y,z),$$\n",
      "where $r(x,y,z)$ is the perpendicular distance of the point $(x,y,z)$ from the axis of rotation (z-axis).  Do the simulation $N_s=1000$ times and for each simulation choose $N_{mc}$ such that the accuracy is $0.1\\%$. Show how you estimated the accuracy and what is the value of $N_{mc}$.\n",
      "\n",
      "<img src = \"./valentine_gift.png\">"
     ]
    },
    {
     "cell_type": "markdown",
     "metadata": {},
     "source": [
      "Answer:\n",
      "\n",
      "We can sample from a bounding box with $x\\in [-\\sqrt{2}, \\sqrt{2}]$, $y\\in [-\\sqrt{2}, \\sqrt{2}]$ and $z\\in [-1, 1]$. The integrand is\n",
      "\n",
      "$$f(x) = \n",
      "\\left\\{\n",
      "    \\begin{array}{lll}\n",
      "        {4(x^2+y^2)} & \\mbox{if inside sphere}  \\\\\n",
      "        {6(x^2+y^2)} & \\mbox{if outside sphere, inside cylinder} \\\\\n",
      "        {0}              & \\mbox{if outside cylinder} \\end{array}\n",
      "\\right.$$\n",
      "\n",
      "We can approximate integral by $\\hat{I} = V \\langle f \\rangle  \\approx V \\frac{1}{N_{mc}} \\sum_{i=1}^{N_{mc}} f(x_i, y_i, z_i) $, where $V = 16, N_{mc} = sample size$\n",
      "\n",
      "We want to choose $N_{mc}$ such that the accuracy is $0.1%$. First, we use a small $N_{mc}$ to calculate the accuracy and then estimate the $N_{mc}$ that we want."
     ]
    },
    {
     "cell_type": "code",
     "collapsed": false,
     "input": [
      "# Define a function to calculate the integrand\n",
      "rho1, rho2 = 4, 6\n",
      "def f_x(x,y,z):\n",
      "    if x**2 + y**2 +z**2<=1: # inside of the sphere\n",
      "        return rho1*(x**2+y**2)\n",
      "    elif x**2 + y**2<=abs(z)+1: # outside of the sphere and inside of the generalized cylinder\n",
      "        return rho2*(x**2+y**2)\n",
      "    else:   # outside of the cylinder\n",
      "        return 0.0\n",
      "vectorized_f_x = np.vectorize(f_x)"
     ],
     "language": "python",
     "metadata": {},
     "outputs": [],
     "prompt_number": 18
    },
    {
     "cell_type": "code",
     "collapsed": false,
     "input": [
      "# Set the bounding box to sample from\n",
      "x_min, x_max = -2**.5, 2**.5\n",
      "y_min, y_max = -2**.5, 2**.5\n",
      "z_min, z_max = -1  , 1\n",
      "\n",
      "# Set number of simulation and number of samples per simulation\n",
      "N_s = 1000\n",
      "N_mc =10000\n",
      "\n",
      "Inertia = np.zeros(N_s)\n",
      "V = (x_max-x_min)*(y_max-y_min)*(z_max-z_min)\n",
      "for i in xrange(N_s):\n",
      "    X = np.random.uniform(low=x_min, high=x_max, size=N_mc)\n",
      "    Y = np.random.uniform(low=y_min, high=y_max, size=N_mc)\n",
      "    Z = np.random.uniform(low=z_min, high=z_max, size=N_mc)\n",
      "    Inertia[i] = V*np.mean(vectorized_f_x(X, Y, Z))"
     ],
     "language": "python",
     "metadata": {},
     "outputs": [],
     "prompt_number": 46
    },
    {
     "cell_type": "code",
     "collapsed": false,
     "input": [
      "plt.hist(Inertia, bins=50)\n",
      "plt.title('Histogram of Inertia')\n",
      "plt.xlabel('inertia')\n",
      "plt.ylabel('frequency')\n",
      "plt.show()"
     ],
     "language": "python",
     "metadata": {},
     "outputs": [
      {
       "metadata": {},
       "output_type": "display_data",
       "png": "[encoded data removed]",
       "text": [
        "<matplotlib.figure.Figure at 0x1748b358>"
       ]
      }
     ],
     "prompt_number": 47
    },
    {
     "cell_type": "code",
     "collapsed": false,
     "input": [
      "ex_i = np.mean(Inertia)\n",
      "ex_i2 = np.mean(Inertia**2)\n",
      "print \"Accuracy of simulations is \" ,((ex_i2-ex_i**2)/N_s)**.5/ex_i"
     ],
     "language": "python",
     "metadata": {},
     "outputs": [
      {
       "output_type": "stream",
       "stream": "stdout",
       "text": [
        "Accuracy of simulations is  0.00122773239334\n"
       ]
      }
     ],
     "prompt_number": 33
    },
    {
     "cell_type": "markdown",
     "metadata": {},
     "source": [
      "The accuracy is 0.12%, which is close to 0.1%. Therefore, $N_{mc}$ is from $10^6$ to $10^7$. I can use binary search in this range to search a more accurate result."
     ]
    },
    {
     "cell_type": "code",
     "collapsed": false,
     "input": [
      "# Set the bounding box to sample from\n",
      "x_min, x_max = -2**.5, 2**.5\n",
      "y_min, y_max = -2**.5, 2**.5\n",
      "z_min, z_max = -1  , 1\n",
      "\n",
      "# Calculate the error and use binary search to find the N_mc\n",
      "upper_bound = 10**6\n",
      "lower_bound = 10**7\n",
      "error = 1\n",
      "print \"Begin binary search...\"\n",
      "while (error>.001 or (.001-error)>0.0001) and upper_bound>lower_bound:\n",
      "    mid = (upper_bound+lower_bound)/2\n",
      "    N = mid\n",
      "    X = np.random.uniform(low=x_min, high=x_max, size=N)\n",
      "    Y = np.random.uniform(low=y_min, high=y_max, size=N)\n",
      "    Z = np.random.uniform(low=z_min, high=z_max, size=N)\n",
      "    print \"Calculating f(x_i)....     \",\n",
      "    f = vectorized_f_x(X, Y, Z)\n",
      "    ex_f = np.mean(f)\n",
      "    ex_f2 = np.mean(f**2)\n",
      "    error = ((ex_f2-ex_f**2)/N)**.5/ex_f\n",
      "    print 'N=%8d Accuracy: %f' % (N, error)\n",
      "    if error>.001:\n",
      "        lower_bound = mid\n",
      "    else:\n",
      "        upper_bound = mid"
     ],
     "language": "python",
     "metadata": {},
     "outputs": [
      {
       "output_type": "stream",
       "stream": "stdout",
       "text": [
        " Begin binary search...\n",
        "Calculating f(x_i)....     "
       ]
      },
      {
       "output_type": "stream",
       "stream": "stdout",
       "text": [
        " N= 5500000 Accuracy: 0.000532\n",
        "Calculating f(x_i)....     "
       ]
      },
      {
       "output_type": "stream",
       "stream": "stdout",
       "text": [
        " N= 3250000 Accuracy: 0.000692\n",
        "Calculating f(x_i)....     "
       ]
      },
      {
       "output_type": "stream",
       "stream": "stdout",
       "text": [
        " N= 2125000 Accuracy: 0.000856\n",
        "Calculating f(x_i)....     "
       ]
      },
      {
       "output_type": "stream",
       "stream": "stdout",
       "text": [
        " N= 1562500 Accuracy: 0.000997\n"
       ]
      }
     ],
     "prompt_number": 37
    },
    {
     "cell_type": "code",
     "collapsed": false,
     "input": [
      "N_mc = 1562500\n",
      "Inertia = np.zeros(N_s)\n",
      "V = (x_max-x_min)*(y_max-y_min)*(z_max-z_min)\n",
      "X = np.random.uniform(low=x_min, high=x_max, size=N_mc)\n",
      "Y = np.random.uniform(low=y_min, high=y_max, size=N_mc)\n",
      "Z = np.random.uniform(low=z_min, high=z_max, size=N_mc)\n",
      "f = vectorized_f_x(X, Y, Z)\n",
      "ex_f = np.mean(f)\n",
      "ex_f2 = np.mean(f**2)\n",
      "error = ((ex_f2-ex_f**2)/N)**.5/ex_f\n",
      "print 'The moment of inertia is about', V*np.mean(vectorized_f_x(X, Y, Z)), 'Accuracy is', error"
     ],
     "language": "python",
     "metadata": {},
     "outputs": [
      {
       "output_type": "stream",
       "stream": "stdout",
       "text": [
        "The moment of inertia is about "
       ]
      },
      {
       "output_type": "stream",
       "stream": "stdout",
       "text": [
        "40.6395424483 Accuracy is 0.000996901960802\n"
       ]
      }
     ],
     "prompt_number": 51
    },
    {
     "cell_type": "markdown",
     "metadata": {},
     "source": [
      "$N_{mc}$ is 15625000"
     ]
    },
    {
     "cell_type": "markdown",
     "metadata": {},
     "source": [
      "# Problem 2: \n",
      "Maria's friend, Paparus, another statistics PhD, is thinking of getting a lovely puppy for his girlfriend. A desirable puppy should be less than 6 years old, taller than 20 cm but shorter than 35 cm. It also should weigh less than 40 lbs. Assume that the probability distribution for age (a) is an exponential distribution, and that the age (a) is independent of the height and weight.\n",
      "\n",
      "$$a\\sim \\mbox{Expo(}\\lambda\\mbox{)} \\text{, with } \\lambda = 0.3$$ \n",
      "\n",
      "\n",
      "\n",
      "The joint distribution of height (h) and weight (w) is a bivariate normal distribution:\n",
      "\n",
      "$$(h,w)\\sim N(\\mu, \\Sigma) \\text{, with }  \\mu=(\\mu_w,\\mu_h) = (30, 25)   \\text{, and } \\Sigma = \\left(\\begin{array}{cc} 50 & 10\\\\  10 & 100 \\end{array}\\right).$$\n",
      "\n",
      "\n",
      "\n",
      "Calculate the probability that Paparus finds a desirable puppy. "
     ]
    },
    {
     "cell_type": "code",
     "collapsed": false,
     "input": [
      "lamb = 0.3   # lambda\n",
      "mu = [30,25] # mean\n",
      "Sigma = [[50,10],[10,100]] # covariance\n",
      "N_trials = 1000          # Number of trials\n",
      "N_sim = 1000\n",
      "result = []\n",
      "\n",
      "for i in xrange(N_trials):\n",
      "    # Sampling age, height and weight from distribution\n",
      "    age = np.random.exponential(1/lamb, N_sim)\n",
      "    h_w = np.random.multivariate_normal(mu, Sigma, N_sim)\n",
      "\n",
      "    # Calculate proportion of samples that satisfy the condition\n",
      "    result.append(np.mean((age<6) & (h_w[:,1]<40) & (h_w[:,0]<35) & (h_w[:,0]>20)))"
     ],
     "language": "python",
     "metadata": {},
     "outputs": [],
     "prompt_number": 41
    },
    {
     "cell_type": "code",
     "collapsed": false,
     "input": [
      "plt.hist(result)\n",
      "plt.title('Histogram of Probability')\n",
      "plt.xlabel('probability')\n",
      "plt.ylabel('frequency')\n",
      "plt.show()"
     ],
     "language": "python",
     "metadata": {},
     "outputs": [
      {
       "metadata": {},
       "output_type": "display_data",
       "png": "[encoded data removed]",
       "text": [
        "<matplotlib.figure.Figure at 0x173c1898>"
       ]
      }
     ],
     "prompt_number": 44
    },
    {
     "cell_type": "code",
     "collapsed": false,
     "input": [
      "print \"Probability is about\", np.mean(result)"
     ],
     "language": "python",
     "metadata": {},
     "outputs": [
      {
       "output_type": "stream",
       "stream": "stdout",
       "text": [
        "Probability is about 0.534224\n"
       ]
      }
     ],
     "prompt_number": 49
    },
    {
     "cell_type": "markdown",
     "metadata": {},
     "source": [
      "# Problem 3: \n",
      "Unfortunately not everybody gets to be happy on Valentines day. Thousands of random samples get rejected every day in Monte Carlo simulations. Let us try and at least reduce the misery for all these poor random samples.\n",
      "\n",
      "Generate a random sample from the two dimensional distribution \n",
      "\n",
      "$$P(x, y) \\propto \\exp(-x^2 - y^2 - x^2 y^2), \\text{ s.t. } -2\\leq x\\leq 2, -2\\leq y\\leq 2$$\n",
      "\n",
      "using the rejection method. Report the number of samples you accept ($N_{+}$) and reject ($N_{-}$), and their ratio  $N_{+}/N_{-}$. \n",
      "\n",
      "\n",
      "\n",
      " Think of a way of improving the ratio of $N_{+}/N_{-}$ and implement it. By how much did you improve the ratio?"
     ]
    },
    {
     "cell_type": "markdown",
     "metadata": {},
     "source": [
      "Answer:\n",
      "\n",
      "We can repeat $N$ times following steps\n",
      "+ Draw $x$ uniformly from $[-2,2]$\n",
      "+ Draw $y$ uniformly from $[-2,2]$\n",
      "+ Draw $z$ uniformly from $[0,1]$\n",
      "+ if $z<\\exp(-x^2 - y^2 - x^2 y^2)$, accept the sample\n",
      "+ otherwise reject it\n",
      "+ repeat\n",
      "\n",
      "$$N_{+} = \\text{number of}\\{z<\\exp(-x^2 - y^2 - x^2 y^2)\\}$$\n",
      "\n",
      "$$N_{-} = N-N_{+}$$"
     ]
    },
    {
     "cell_type": "code",
     "collapsed": false,
     "input": [
      "x_min, x_max = -2, 2\n",
      "y_min, y_max = -2, 2\n",
      "p_min, p_max =  0, 1\n",
      "N = 1000000\n",
      "X = np.random.uniform(low=x_min, high=x_max, size=N) # sample x\n",
      "Y = np.random.uniform(low=y_min, high=y_max, size=N) # sample y\n",
      "P = np.random.uniform(low=p_min, high=p_max, size=N) # sample z\n",
      "N_a = np.sum(P<np.exp(-X**2-Y**2-X**2*Y**2))\n",
      "print \"Number of Accept: \", N_a, \", Number of reject: \", N-N_a, \", Ratio: \", float(N_a)/(N-N_a)"
     ],
     "language": "python",
     "metadata": {},
     "outputs": [
      {
       "output_type": "stream",
       "stream": "stdout",
       "text": [
        "Number of Accept:  167895 , Number of reject:  832105 , Ratio:  0.20177141106\n"
       ]
      }
     ],
     "prompt_number": 38
    },
    {
     "cell_type": "markdown",
     "metadata": {},
     "source": [
      "We introduce a _proposal density_ $g(x)$.\n",
      "\n",
      "$$P(x, y) \\propto \\exp(-x^2 - y^2 - x^2 y^2)\\\\ <= \\exp(-x^2 - y^2)$$\n",
      "we can find a proposal density \n",
      "$$g(x) \\propto \\exp(-x^2 - y^2)$$\n",
      "It is easy to know that $g(x)$ is a bivariate normal distribution with $\\mu = (0,0)$ and $\\Sigma = \\left( \\begin{array}{ccc}\n",
      "0.5 & 0   \\\\\n",
      "0   & 0.5 \\end{array} \\right)$\n",
      "\n",
      "There exists $M = 1$ such that $M g(x) > P(x)$\n",
      "\n",
      "+ Draw $x$ from your proposal distribution bivariate normal distribution with $\\mu = (0,0)$ and $\\Sigma = \\left( \\begin{array}{ccc}\n",
      "0.5 & 0   \\\\\n",
      "0   & 0.5 \\end{array} \\right)$\n",
      "+ Draw $y$ uniformly from [0,1]\n",
      "+ if $y < P(x)/g(x)$, accept the sample\n",
      "+ otherwise reject it\n",
      "+ repeat"
     ]
    },
    {
     "cell_type": "code",
     "collapsed": false,
     "input": [
      "mu = [0,0]\n",
      "Sigma = [[.5,0],[0,.5]]\n",
      "N = 1000000\n",
      "X, Y = (np.random.multivariate_normal(mu, Sigma, N)).T\n",
      "P = np.random.uniform(low = 0, high = 1, size = N)\n",
      "inBox = (X>=-2) & (X<=2) & (Y>=-2) & (Y<=2)\n",
      "X, Y = X[inBox], Y[inBox]\n",
      "P = P[inBox]\n",
      "N_valid = np.sum(inBox)\n",
      "N_a = np.sum(P<(np.exp(-X**2-Y**2-X**2*Y**2)/np.exp(-X**2-Y**2)))"
     ],
     "language": "python",
     "metadata": {},
     "outputs": [],
     "prompt_number": 42
    },
    {
     "cell_type": "code",
     "collapsed": false,
     "input": [
      "print \"Number of Accept: \", N_a, \", Number of reject: \", N_valid-N_a, \", Ratio: \", float(N_a)/(N_valid-N_a)"
     ],
     "language": "python",
     "metadata": {},
     "outputs": [
      {
       "output_type": "stream",
       "stream": "stdout",
       "text": [
        "Number of Accept:  856572 , Number of reject:  133961 , Ratio:  6.39418935362\n"
       ]
      }
     ],
     "prompt_number": 45
    },
    {
     "cell_type": "markdown",
     "metadata": {},
     "source": [
      "The ratio is greatly improved."
     ]
    }
   ],
   "metadata": {}
  }
 ]
}