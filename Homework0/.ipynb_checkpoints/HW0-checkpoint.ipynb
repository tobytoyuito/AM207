{
 "metadata": {
  "name": "",
  "signature": "sha256:2e8851bbcac0028e09b3c9f8c05fd8e044fcba884b852b620e378e7b18d07d41"
 },
 "nbformat": 3,
 "nbformat_minor": 0,
 "worksheets": [
  {
   "cells": [
    {
     "cell_type": "heading",
     "level": 1,
     "metadata": {},
     "source": [
      "**AM 207**: Homework 0"
     ]
    },
    {
     "cell_type": "markdown",
     "metadata": {},
     "source": [
      "_ _ _ _ _\n",
      "\n",
      "Verena Kaynig-Fittkau and Pavlos Protopapas  <br>\n",
      "Handed out: Thursday, January 28th, 2015<br>\n",
      "Due: 11.59 P.M. Wednesday February 6th, 2015\n",
      "\n",
      "**Instructions**:\n",
      "\n",
      "+ Upload your answers in an ipython notebook to the dropbox on iSites, you can find the link on our homepage (http://am207.org/).\n",
      "\n",
      "+ We will provide you imports for your ipython notebook. For the first part of this course, please do not import additional libraries.\n",
      "\n",
      "+ Your individual submissions should use the following filenames: AM207_YOURNAME_HW0.ipynb\n",
      "\n",
      "+ Your code should be in code cells as part of your ipython notebook. Do not use a different language (or format). \n",
      "\n",
      "+ Please submit your notebook in an executed status, so that we can see all the results you computed. However, we will still run your code and all cells should reproduce the output when executed. \n",
      "\n",
      "+ If you have multiple files (e.g. you've added code files or images) create a tarball for all files in a single file and name it: AM207_YOURNAME_HW0.tar.gz or AM207_YOURNAME_HW0.zip\n",
      "\n",
      "_ _ _ _ _"
     ]
    },
    {
     "cell_type": "markdown",
     "metadata": {},
     "source": [
      "\n",
      "### Submission of this homework is required but won't count against your grade.  You won't be able to submit future assignments without completing this one first.\n",
      "\n",
      "---\n",
      "\n",
      "Welcome to AM 207 (http://am207.org/).  In this class, we will be using a variety of tools that will require some initial configuration. To ensure everything goes smoothly moving forward, we will setup the majority of those tools in this homework. While some of this will likely be dull, doing it now will enable us to do more exciting work in the weeks that follow without getting bogged down in further software configuration. \n",
      "\n",
      "## Piazza and Introduction\n",
      "\n",
      "\n",
      "**Piazza**\n",
      "\n",
      "Go to [Piazza](https://piazza.com/harvard/fall2015/am207) and sign up for the class using your Harvard e-mail address. \n",
      "\n",
      "You will use Piazza as a forum for discussion, to find team members, to arrange appointments, and to ask questions. Piazza should be your primary form of communication with the staff. Use the staff e-mail (staff@am207.org) only for individual requests. All homework assignments, and project descriptions will be announced on Piazza. If you do not have a harvard email address, please write an email to Verena (vkaynig@seas.harvard.edu), and she will add you to Piazza. \n",
      "\n",
      "**Introduction**\n",
      "\n",
      "Once you are signed up to the Piazza course forum, introduce yourself to your classmates and course staff with a follow-up post in the introduction thread. Include your name/nickname, your affiliation, why you are taking this course, and tell us something interesting about yourself (e.g., an industry job, an unusual hobby, past travels, or a cool project you did, etc.).  \n",
      "\n",
      "## Programming expectations\n",
      "\n",
      "All the assignments and labs for this class will use Python and, for the most part, the browser-based IPython notebook format you are currently viewing. Knowledge of Python is not a prerequisite for this course, **provided you are comfortable learning on your own as needed**. While we have strived to make the programming component of this course straightforward, we will not devote much time to teaching prorgramming or Python syntax. Basically, you should feel comfortable with:\n",
      "\n",
      "* How to look up Python syntax on Google and StackOverflow.\n",
      "* Basic programming concepts like functions, loops, arrays, dictionaries, strings, and if statements.\n",
      "* How to learn new libraries by reading documentation.\n",
      "* Asking questions on StackOverflow or Piazza.\n",
      "\n",
      "There are many online tutorials to introduce you to scientific python programming. A small sample below\n",
      "\n",
      "* [An intro to scientific python](https://github.com/jrjohansson/scientific-python-lectures) that is very nice. Lectures 1-4 are most relevant to this class.\n",
      "* [Idiomatic Python](http://python.net/~goodger/projects/pycon/2007/idiomatic/handout.html)\n",
      "* [A video intro](http://pyvideo.org/video/2744/the-wonderful-world-of-scientific-computing-with) from SciPy 2014.\n",
      "\n",
      "\n",
      "\n",
      "## Getting Python\n",
      "\n",
      "[Anaconda](http://continuum.io/downloads) is an easy-to-install bundle of Python and most of the libraries needed for this course. We recommend that you use Anaconda for your homework and other course work.\n",
      "\n",
      "Please visit [this page](https://github.com/AM207/2015/wiki/Installing-Python#installing-additional-libraries) and follow the instructions to set up Python.\n",
      "\n",
      "<hline>\n",
      "\n",
      "## Hello, Python\n",
      "\n",
      "The IPython notebook is an application to build interactive computational notebooks. You'll be using them to complete labs and homework. Once you've set up Python, please download this HW0 ipython notebook and open it with IPython by typing\n",
      "\n",
      "```\n",
      "ipython notebook <name_of_downloaded_file>\n",
      "```\n",
      "\n",
      "For the rest of the assignment, use your local copy of this page, running on IPython.\n",
      "\n",
      "Notebooks are composed of many \"cells\", which can contain text (like this one), or code (like the one below). Double click on the cell below, and evaluate it by clicking the \"play\" button above, or by hitting shift + enter"
     ]
    },
    {
     "cell_type": "code",
     "collapsed": false,
     "input": [
      "x = [10, 20, 30, 40, 50]\n",
      "for item in x:\n",
      "    print \"Item is \", item"
     ],
     "language": "python",
     "metadata": {},
     "outputs": [
      {
       "output_type": "stream",
       "stream": "stdout",
       "text": [
        "Item is  10\n",
        "Item is  20\n",
        "Item is  30\n",
        "Item is  40\n",
        "Item is  50\n"
       ]
      }
     ],
     "prompt_number": 1
    },
    {
     "cell_type": "markdown",
     "metadata": {},
     "source": [
      "## Python Libraries\n",
      "\n",
      "We will be using a several different libraries throughout this course. If you've successfully completed the [installation instructions](https://github.com/cs109/content/wiki/Installing-Python), all of the following statements should run."
     ]
    },
    {
     "cell_type": "code",
     "collapsed": false,
     "input": [
      "#IPython is what you are using now to run the notebook\n",
      "import IPython\n",
      "print \"IPython version:      %6.6s (need at least 1.0)\" % IPython.__version__\n",
      "\n",
      "# Numpy is a library for working with Arrays\n",
      "import numpy as np\n",
      "print \"Numpy version:        %6.6s (need at least 1.7.1)\" % np.__version__\n",
      "\n",
      "# SciPy implements many different numerical algorithms\n",
      "import scipy as sp\n",
      "print \"SciPy version:        %6.6s (need at least 0.12.0)\" % sp.__version__\n",
      "\n",
      "# Pandas makes working with data tables easier\n",
      "import pandas as pd\n",
      "print \"Pandas version:       %6.6s (need at least 0.11.0)\" % pd.__version__\n",
      "\n",
      "# Module for plotting\n",
      "import matplotlib\n",
      "print \"Mapltolib version:    %6.6s (need at least 1.2.1)\" % matplotlib.__version__\n",
      "\n",
      "# SciKit Learn implements several Machine Learning algorithms\n",
      "import sklearn\n",
      "print \"Scikit-Learn version: %6.6s (need at least 0.13.1)\" % sklearn.__version__\n",
      "\n",
      "#Seaborn is a nice library for visualizations\n",
      "import seaborn\n",
      "print \"Seaborn version:      %6.6s (need at least 0.3.1)\" % seaborn.__version__\n",
      "\n",
      "#You'll use pymc later for sophisticated sampling\n",
      "import pymc\n",
      "print \"PyMC version:         %6.6s (need at least 2.0.0)\" % pymc.__version__\n",
      "\n",
      "# this actually imports matplotlib\n",
      "import matplotlib.pyplot as plt  \n",
      "\n",
      "# namedtuples are useful\n",
      "from collections import namedtuple"
     ],
     "language": "python",
     "metadata": {},
     "outputs": [
      {
       "output_type": "stream",
       "stream": "stdout",
       "text": [
        "IPython version:       2.1.0 (need at least 1.0)\n",
        "Numpy version:         1.8.1 (need at least 1.7.1)"
       ]
      },
      {
       "output_type": "stream",
       "stream": "stdout",
       "text": [
        "\n",
        "SciPy version:        0.14.0 (need at least 0.12.0)"
       ]
      },
      {
       "output_type": "stream",
       "stream": "stdout",
       "text": [
        "\n",
        "Pandas version:       0.14.0 (need at least 0.11.0)"
       ]
      },
      {
       "output_type": "stream",
       "stream": "stdout",
       "text": [
        "\n",
        "Mapltolib version:     1.3.1 (need at least 1.2.1)\n",
        "Scikit-Learn version: 0.14.1 (need at least 0.13.1)"
       ]
      },
      {
       "output_type": "stream",
       "stream": "stdout",
       "text": [
        "\n",
        "Seaborn version:       0.4.0 (need at least 0.3.1)"
       ]
      },
      {
       "output_type": "stream",
       "stream": "stdout",
       "text": [
        "\n",
        "PyMC version:          2.3.4 (need at least 2.0.0)"
       ]
      },
      {
       "output_type": "stream",
       "stream": "stdout",
       "text": [
        "\n"
       ]
      }
     ],
     "prompt_number": 1
    },
    {
     "cell_type": "markdown",
     "metadata": {},
     "source": [
      "If any of these libraries are missing or out of date, you will need to [install them](https://github.com/AM207/2015/wiki/Installing-Python) and restart IPython"
     ]
    },
    {
     "cell_type": "markdown",
     "metadata": {},
     "source": [
      "## Hello matplotlib"
     ]
    },
    {
     "cell_type": "markdown",
     "metadata": {},
     "source": [
      "The notebook integrates nicely with Matplotlib, the primary plotting package for python. This should embed a figure of a sine wave:"
     ]
    },
    {
     "cell_type": "code",
     "collapsed": false,
     "input": [
      "#this line prepares IPython for working with matplotlib\n",
      "%matplotlib inline  \n",
      "\n",
      "x = np.linspace(0, 10, 30)  #array of 30 points from 0 to 10\n",
      "y = np.sin(x)\n",
      "z = y + np.random.normal(size=30) * .2\n",
      "plt.plot(x, y, 'ro-', label='A sine wave')\n",
      "plt.plot(x, z, 'b-', label='Noisy sine')\n",
      "plt.legend(loc = 'lower right')\n",
      "plt.xlabel(\"X axis\")\n",
      "plt.ylabel(\"Y axis\")           "
     ],
     "language": "python",
     "metadata": {},
     "outputs": [
      {
       "metadata": {},
       "output_type": "pyout",
       "prompt_number": 2,
       "text": [
        "<matplotlib.text.Text at 0x17c86438>"
       ]
      },
      {
       "metadata": {},
       "output_type": "display_data",
       "png": "[encoded data removed]",
       "text": [
        "<matplotlib.figure.Figure at 0x17ae4a20>"
       ]
      }
     ],
     "prompt_number": 2
    },
    {
     "cell_type": "markdown",
     "metadata": {},
     "source": [
      "If that last cell complained about the `%matplotlib` line, you need to update IPython to v1.0, and restart the notebook. See the [installation page](https://github.com/cs109/content/wiki/Installing-Python)"
     ]
    },
    {
     "cell_type": "markdown",
     "metadata": {},
     "source": [
      "## Hello Numpy\n",
      "\n",
      "The Numpy array processing library is the basis of nearly all numerical computing in Python. Here's a 30 second crash course. For more details, consult Chapter 4 of Python for Data Analysis, or the [Numpy User's Guide](http://docs.scipy.org/doc/numpy-dev/user/index.html)"
     ]
    },
    {
     "cell_type": "code",
     "collapsed": false,
     "input": [
      "print \"Make a 3 row x 4 column array of random numbers\"\n",
      "x = np.random.random((3, 4))\n",
      "print x\n",
      "print\n",
      "\n",
      "print \"Add 1 to every element\"\n",
      "x = x + 1\n",
      "print x\n",
      "print\n",
      "\n",
      "print \"Get the element at row 1, column 2\"\n",
      "print x[1, 2]\n",
      "print\n",
      "\n",
      "# The colon syntax is called \"slicing\" the array. \n",
      "print \"Get the first row\"\n",
      "print x[0, :]\n",
      "print\n",
      "\n",
      "print \"Get every 2nd column of the first row\"\n",
      "print x[0, ::2]\n",
      "print"
     ],
     "language": "python",
     "metadata": {},
     "outputs": [
      {
       "output_type": "stream",
       "stream": "stdout",
       "text": [
        "Make a 3 row x 4 column array of random numbers\n",
        "[[ 0.51604032  0.07543651  0.02386473  0.09549691]\n",
        " [ 0.98434105  0.06214611  0.1457983   0.04151323]\n",
        " [ 0.24402329  0.5143669   0.07692019  0.83198381]]\n",
        "\n",
        "Add 1 to every element\n",
        "[[ 1.51604032  1.07543651  1.02386473  1.09549691]\n",
        " [ 1.98434105  1.06214611  1.1457983   1.04151323]\n",
        " [ 1.24402329  1.5143669   1.07692019  1.83198381]]\n",
        "\n",
        "Get the element at row 1, column 2\n",
        "1.14579830087\n",
        "\n",
        "Get the first row\n",
        "[ 1.51604032  1.07543651  1.02386473  1.09549691]\n",
        "\n",
        "Get every 2nd column of the first row\n",
        "[ 1.51604032  1.02386473]\n",
        "\n"
       ]
      }
     ],
     "prompt_number": 3
    },
    {
     "cell_type": "markdown",
     "metadata": {},
     "source": [
      "Print the maximum, minimum, and mean of the array. This does **not** require writing a loop. In the code cell below, type `x.m<TAB>`, to find built-in operations for common array statistics like this"
     ]
    },
    {
     "cell_type": "code",
     "collapsed": false,
     "input": [
      "#your code here\n",
      "print \"Get the maximum of the array\"\n",
      "print x.max()\n",
      "print\n",
      "\n",
      "print \"Get the minimum of the array\"\n",
      "print x.min()\n",
      "print\n",
      "\n",
      "print \"Get the mean of the array\"\n",
      "print x.mean()\n",
      "print"
     ],
     "language": "python",
     "metadata": {},
     "outputs": [
      {
       "output_type": "stream",
       "stream": "stdout",
       "text": [
        "Get the maximum of the array\n",
        "1.98434104902\n",
        "\n",
        "Get the minimum of the array\n",
        "1.02386472641\n",
        "\n",
        "Get the mean of the array\n",
        "1.30099427898\n",
        "\n"
       ]
      }
     ],
     "prompt_number": 4
    },
    {
     "cell_type": "markdown",
     "metadata": {},
     "source": [
      "Call the `x.max` function again, but use the `axis` keyword to print the maximum of each row in x."
     ]
    },
    {
     "cell_type": "code",
     "collapsed": false,
     "input": [
      "print \"Get the maximum of each row in the array\"\n",
      "print x.max(axis = 1)\n",
      "print"
     ],
     "language": "python",
     "metadata": {},
     "outputs": [
      {
       "output_type": "stream",
       "stream": "stdout",
       "text": [
        "Get the maximum of each row in the array\n",
        "[ 1.51604032  1.98434105  1.83198381]\n",
        "\n"
       ]
      }
     ],
     "prompt_number": 5
    },
    {
     "cell_type": "markdown",
     "metadata": {},
     "source": [
      "Here's a way to quickly simulate 500 coin \"fair\" coin tosses (where the probabily of getting Heads is 50%, or 0.5)"
     ]
    },
    {
     "cell_type": "code",
     "collapsed": false,
     "input": [
      "x = np.random.binomial(500, .5)\n",
      "print \"number of heads:\", x"
     ],
     "language": "python",
     "metadata": {},
     "outputs": [
      {
       "output_type": "stream",
       "stream": "stdout",
       "text": [
        "number of heads: 234\n"
       ]
      }
     ],
     "prompt_number": 6
    },
    {
     "cell_type": "markdown",
     "metadata": {},
     "source": [
      "Repeat this simulation 500 times, and use the [plt.hist() function](http://matplotlib.org/api/pyplot_api.html#matplotlib.pyplot.hist) to plot a histogram of the number of Heads (1s) in each simulation"
     ]
    },
    {
     "cell_type": "code",
     "collapsed": false,
     "input": [
      "x = np.random.binomial(500, .5, 500)\n",
      "plt.hist(x)\n",
      "plt.xlabel('number of Heads')\n",
      "plt.ylabel('frequency')\n",
      "plt.title('Histogram of the Number of Heads')\n",
      "plt.show()"
     ],
     "language": "python",
     "metadata": {},
     "outputs": [
      {
       "metadata": {},
       "output_type": "display_data",
       "png": "[encoded data removed]",
       "text": [
        "<matplotlib.figure.Figure at 0x1961c128>"
       ]
      }
     ],
     "prompt_number": 9
    },
    {
     "cell_type": "markdown",
     "metadata": {},
     "source": [
      "## Problem 0: When do you get emails?\n",
      "\n",
      "\n",
      "*This is a sample homework problem from the course.  It was actually given as a homework problem in previous years.*\n",
      "<br>\n",
      "\n",
      "The probability distribution of the emails I received as a function of time of the day\n",
      "follows a skewed distribution which can be modeled as:\n",
      "\n",
      "$$\n",
      " P(t') = \\lambda \\frac{t'}{t'^2+1} \\hspace{1cm}   0 \\le t' \\le 12 \\\\ \\nonumber\n",
      "$$\n",
      "$$\n",
      " P(t')  = 0 \\hspace{2cm} 12 \\lt t' \\le 24 \\\\ \\nonumber \n",
      "$$\n",
      "\n",
      "where $t'$ is the time measured in hours, $t'=0$ is at 6:00am, and $\\lambda$ is a normalization constant. \n",
      " \n",
      "Simulate $1\\times10^6$ emails arriving at times determined by the \n",
      "distribution above"
     ]
    },
    {
     "cell_type": "markdown",
     "metadata": {},
     "source": [
      "(a) Using inverse transform. Plot the histogram of the simulated event times and compare it to a plot of the true distribution. \n"
     ]
    },
    {
     "cell_type": "markdown",
     "metadata": {},
     "source": [
      "(b) Using the rejection method. Plot the histogram of the simulated event times and compare it to a plot of the the true distribution. "
     ]
    },
    {
     "cell_type": "markdown",
     "metadata": {},
     "source": [
      "(c) Time both simulations and report the times. Which one was faster and why ? "
     ]
    },
    {
     "cell_type": "markdown",
     "metadata": {},
     "source": [
      "**SOLUTION**\n",
      "\n",
      "(a) In order to properly execute the inverse transform we need to: \n",
      "\n",
      "* Normalize P(t')\n",
      "* Calculate the CDF of P(t')\n",
      "* Determine the inverse function\n",
      "\n",
      "First, in order to normalize and calculate the CDF of P(t') we'll find the following indefinite integral useful.  Let's define r(t) to be the integral of P(t') from 0 to t. \n",
      "\n",
      "$$\n",
      "r(t) \\equiv \\int_0^t P(t')dt' = \\int_0^t\\lambda \\frac{t'}{t'^2+1} = \\frac{\\lambda}{2} ln(t'^2 + 1) \\bigg\\vert_{t'=0}^{t'=t} = \\frac{\\lambda}{2} ln(t^2 + 1) - \\frac{\\lambda}{2} ln(0 + 1) = \\frac{\\lambda}{2} ln(t^2 + 1)\n",
      "$$\n",
      "\n",
      "Where we get the last step by realizing $ ln(1) \\equiv 0$ \n",
      "\n",
      "If we look at the domain of our probability distribution P(t'), you'll notice that it's set to 0 everywhere except for $0\\le t' \\le 12$. (Recall that we define 0 to be 6 a.m., so we're only getting mail from 6 a.m. to 6 p.m. -- for the other 12 hours in the day we get no mail because this is a model and not Real Life) <br>\n",
      "\n",
      "In order to normalize P(t'), we need to find the integral of P(t') over our total domain (in this case $ 0 \\le t' \\le 12 $).  Our normalization constant $\\lambda$ will be set to the inverse of that value in order to insure that our P(t') integrates to 1 over its entire domain, a requirement for all probability distributions.  Fortunately we've already calculated r(t) above which gives us the integral of P(t') from 0 to any value t.  So we only need to substitute 12 for t in r(t) and we should be able to normalize\n",
      "\n",
      "$$\\int_0^{12} P (t')dt' \\equiv r(12) = \\frac{\\lambda}{2} ln(12^2 + 1) = \\frac{\\lambda}{2} ln(145). $$\n",
      "Now we know that in order to normalize P(t), we must set $\\lambda = \\frac{2}{ln(145)}$ . With $\\lambda$ set at this value our probability distribution normalizes to 1 as is required by the rules of probability measures.\n",
      "\n",
      "Now let's find the Cumulative Distribution Function or CDF(t). $ CDF(t) \\equiv P(t' \\le t) $.   We've already done the hard work by defining r(t) above to be the integral of P(t\u2019) from 0 to t (recall $ P(t') \\equiv 0 $ for $ t' \\le t$) which then just so happens to be the CDF:\n",
      "\n",
      "$$ CDF(t) \\equiv r(t) \\equiv \\int_0^t P(t')dt' = \\frac{\\lambda}{2} ln(t^2 + 1) $$\n",
      "\n",
      "In inverse sampling, given an invertible CDF, we can sample from a distribution by sampling from the uniform random variable from the minimum to maximum values on the CDF and then substituting the sample into the inverse of the CDF to get our true sample.  Our calculated CDF just so happens to be easily invertible:\n",
      "\n",
      "$$ t = CDF^{-1}(CDF(t)) = \\sqrt{\\exp(2r/\\lambda) - 1} $$\n",
      "\n",
      "where we've defined $r \\equiv CDF(t) $.  What minimum and maximum values should we use in our uniform samples?  Well we know our minimum and maximum values for t, so plugging those into the CDF we get our minimal sample $r_{min} = \\frac{\\lambda}{2} ln(t_{min}^2 + 1)$ and $r_{max} = \\frac{\\lambda}{2} ln(t_{max}^2 + 1)$\n",
      "\n",
      "So in order to inverse sample from our email probability distribution, we will now generate samples ${r}$ uniform on $r \\in [\\frac{\\lambda}{2} ln(t_{min}^2 + 1),\\frac{\\lambda}{2} ln(t_{max}^2 + 1)]$ and then invert them."
     ]
    },
    {
     "cell_type": "code",
     "collapsed": false,
     "input": [
      "### Some General Parameters that are useful for both inverse and rejection samplers \n",
      "### So we're putting them in a separate code block so both can use\n",
      "### We're making use of lambda to define functions\n",
      "\n",
      "\n",
      "# Our calculated value for lambda for our normalized distribution\n",
      "L = 2.0/np.log(145) \n",
      "\n",
      "# The email probability distribution we're working with P(t)\n",
      "p = lambda t: L*t/(t*t + 1.)\n",
      "\n",
      "# The CDF of our email probability distribution P(t)\n",
      "CDF = lambda t: L*np.log(t*t + 1.)/2.\n",
      "\n",
      "# The inverse of our CDF that we use to do inverse sampling\n",
      "invCDF = lambda r: np.sqrt(np.exp(2.0*r/L) - 1.)\n",
      "\n",
      "# domain limits\n",
      "tmin = 0 # the lower limit of our domain\n",
      "tmax = 12 # the upper limit of our domain\n",
      "\n",
      "# range limits\n",
      "rmin = CDF(tmin)\n",
      "rmax = CDF(tmax)"
     ],
     "language": "python",
     "metadata": {},
     "outputs": [],
     "prompt_number": 9
    },
    {
     "cell_type": "code",
     "collapsed": false,
     "input": [
      "\n",
      "\n",
      "def email_inverse(total):\n",
      "    \n",
      "    \"\"\"\n",
      "    An inverse sampler function for sampling from our emails\n",
      "    received probability distribution P(t)\n",
      "    \n",
      "    As described in part a above we'll get an array of length total\n",
      "    samples of our email probability distribution by\n",
      "    generating uniform samples in our range [rmin, rmax] described and\n",
      "    defined above and then call the inverse of the CDF also defined above\n",
      "    on each sample to get the samples of our target distribution\n",
      "    \n",
      "    Args:\n",
      "        total (int):  The total number of samples\n",
      "    \n",
      "    Returns:\n",
      "        numpy array: \n",
      "    \"\"\"\n",
      "    \n",
      "    # numpy's random.uniform(a,b,c) gives a numpy array of length c\n",
      "    # samples uniformly distributed from a to b.  We take advantage\n",
      "    # of that to generate a numpy array R with samples in our range\n",
      "    R = np.random.uniform(rmin, rmax, total)\n",
      "    \n",
      "    # now we'll return a numpy array with the inverse CDF function invCDF\n",
      "    # applied to each sample in the array R we just generated\n",
      "    return invCDF(R)\n",
      "\n",
      "\n",
      "\n",
      "# We're going to use inverse sampling to sample 100000 values\n",
      "# from our email distribution\n",
      "inverse_samples = email_inverse(100000)\n"
     ],
     "language": "python",
     "metadata": {},
     "outputs": [],
     "prompt_number": 10
    },
    {
     "cell_type": "code",
     "collapsed": false,
     "input": [
      "# use matplotlib (imported above) to plot the histogram of inverse samples we generated in the above cell\n",
      "# our histogram is grouped in bins of size 30, we ask matplotlib to automatically \n",
      "# normalize the bin heights (so that the total histogram area sums to 1),\n",
      "# and we generate the label 'Samples' in our legend.  This histogram is shown below in blue.\n",
      "plt.hist(inverse_samples,bins=30, normed=True, label=u'Samples');\n",
      "\n",
      "# Let's plot our normalized probability distribution.  \n",
      "\n",
      "# First we need to generate a set of x values to plot \n",
      "# we use numpy's linspace function to generate 1000 values betwee tmin and tmax\n",
      "# defined in an above cell\n",
      "xvals=np.linspace(tmin, tmax, 1000)\n",
      "\n",
      "# Set up some titles and axes labels\n",
      "plt.title(\"Normalized Inverse Sampling Histogram\")\n",
      "plt.xlabel('t')\n",
      "plt.ylabel('P(t)')\n",
      "\n",
      "# We've already defined our normalized email probability distribution function in an above cell\n",
      "# as well to be p = lambda t: L*t/(t*t + 1.)  We can now run our function p on each value \n",
      "# in our numpy array xvals, plot the pairs in red and generate the label our 'p(t)' and add this\n",
      "# to our histogram plot\n",
      "plt.plot(xvals, p(xvals), 'r', label=u'p(t)')\n",
      "\n",
      "# let's turn on the legend\n",
      "plt.legend()"
     ],
     "language": "python",
     "metadata": {},
     "outputs": [
      {
       "metadata": {},
       "output_type": "pyout",
       "prompt_number": 11,
       "text": [
        "<matplotlib.legend.Legend at 0xa1c22b0>"
       ]
      },
      {
       "metadata": {},
       "output_type": "display_data",
       "png": "[encoded data removed]",
       "text": [
        "<matplotlib.figure.Figure at 0x876e670>"
       ]
      }
     ],
     "prompt_number": 11
    },
    {
     "cell_type": "markdown",
     "metadata": {},
     "source": [
      "We see that the samples track very closely to the functional form of our distribution.  That's just what we hoped would be the case.  Fantanstic."
     ]
    },
    {
     "cell_type": "markdown",
     "metadata": {},
     "source": [
      "(b) Rejection sampling is an entirely different method of sampling which we can engage in even if we don't have an invertible CDF function.  In order to do rejection sampling, we still need a min and max for our domain (in this case $t_{min}$ and $t_{max}$). We also need a maximum value $P_{max}$ that is greater than the maximum value our distribution P(t) attains.  We need $P_{max}$ as an upper limit on values we can select or reject.  In rejection sampling we're going to uniformly choose an x value so that $t_{min} \\le x \\le t_{max}$ and a y value $0 \\le y \\le P_{max}$.  If $y \\le P(x)$ we'll add y to our list of samples.  Otherwise we'll throw it away.  We'll repeat this procedure until we have as many samples as we need. <br>\n",
      "\n",
      "Normally in rejection sampling, we'd have to estimate a value for $P_{max}$.  In our case we can do beter because we have a closed form expression for P(t) with an easily determined derivative.  We can find the optimal value i.e. the maximum value that P(t) attains on the interval of interest by calculating that derivative and setting it to 0.\n",
      "\n",
      "$$ \\frac{dP}{dt} \\sim \\frac{d}{dt} \\left(\\frac{\\lambda}{2} \\frac{ t }{t^2 + 1} \\right ) = 0$$\n",
      "$$ \\implies  \\left(\\frac{\\lambda}{2} \\frac{ 1-t^2 }{t^2 + 1} \\right ) = 0$$\n",
      "$$ \\implies  \\left(\\frac{\\lambda}{2} \\frac{ (1-t)(1+t) }{t^2 + 1} \\right ) = 0$$\n",
      "\n",
      "\n",
      "Since $t \\ge 0$ then t = -1 can't be a solution.  This leaves $t_{max} =1$ and by substitution $P_{max} = \\frac{\\lambda}{2}$, and we can use this value to write a simple rejection sampling algorithm."
     ]
    },
    {
     "cell_type": "code",
     "collapsed": false,
     "input": [
      "# Let's set up some additional variables that will be helpful for us going forward\n",
      "\n",
      "# We'll set up a python namedtuple called \"Emails\" that we can use to define tuples\n",
      "# that we can address like objects with attributes samples, total, and accepted.\n",
      "# we imported nametuple in the cell above with matplotlib, etc.\n",
      "# namedtuples are tuples that can be addressed with attributes\n",
      "# so this Email namedtuple we're defining can act like a normal tuple\n",
      "# e.g. a = ([my, array, of, samples], 20, 4)\n",
      "# but it has the advantage that it's members can be conveniently addressed with attributes\n",
      "# so in our example a.samples == [my, array, of, samples]\n",
      "# a.total == 20\n",
      "# a.accepted == 4\n",
      "Emails = namedtuple(\"Emails\", [\"samples\", \"total\", \"accepted\"])\n",
      "\n",
      "# We've determined above that Pmax should be lambda/2.  Let's set that here\n",
      "Pmax=L/2.0\n",
      "\n",
      "# Similarly let's set our variable for where t attains it's maximum value\n",
      "# We actually don't need this for rejection sampling, but we'll set it for giggles\n",
      "t_attains_max=1.0\n",
      "\n",
      "\n",
      "def email_reject(total):\n",
      "    \"\"\"\n",
      "    A rejection sampler function for calculating probability of emails\n",
      "    received\n",
      "    \n",
      "    As described in part b above we'll get an array of length total\n",
      "    samples of our email probability distribution using rejection sampling.  We'll\n",
      "    generate a uniform sample t in the range [tmin, tmax] described and\n",
      "    defined above and then a uniform sample y between [0, Pmax].  We've also above \n",
      "    defined p = lambda t: L*t/(t*t + 1.) as our email distribution.  y is our proposed sample\n",
      "    If y < p(t), we'll  keep the sample.  Otherwise we throw it away.  We repeat \n",
      "    this process until we generate a sample array of length total which we'll return\n",
      "    with the number of generated and accepted samples.\n",
      "    \n",
      "    Args:\n",
      "        total (int):  The total number of samples\n",
      "    \n",
      "    Returns:\n",
      "        namedtuple: \n",
      "    \"\"\"\n",
      "    \n",
      "    # the number of accepted samples which we'll initialize to 0 to begin\n",
      "    accepted = 0 \n",
      "    \n",
      "    # we preallocate our sample array to be length total and initialize all values to 0\n",
      "    samples = np.zeros(total)\n",
      "    \n",
      "    # we initialize our counter of generated sample proposals to be 0\n",
      "    count = 0 \n",
      "\n",
      "    # we'll generate samples until we've accepted our total number\n",
      "    while (accepted < total):\n",
      "        \n",
      "        # generate a sample uniformly on the domain\n",
      "        t = np.random.uniform(tmin, tmax) \n",
      "        \n",
      "        # generate a sample uniformly in the range (for which we've optimally constructed Pmax)\n",
      "        y = np.random.uniform(0,Pmax) \n",
      "        \n",
      "        # if our proposal is accepted\n",
      "        if y < p(t):\n",
      "            # add the proposal to the sample array\n",
      "            samples[accepted] = t\n",
      "            \n",
      "            # increase our count of accepted samples\n",
      "            accepted += 1\n",
      "        \n",
      "        # no matter what we shuld increase our count of sample proposals\n",
      "        count +=1\n",
      "        \n",
      "    # we're done, construct our Email namedtuple with samples, count, and accepted and return it\n",
      "    return Emails(samples, count, accepted)\n",
      "\n",
      "# We're going to use rejection sampling to sample 100000 values\n",
      "# from our email distribution\n",
      "emails = email_reject(1000000)\n",
      "\n",
      "print emails.total, emails.accepted\n"
     ],
     "language": "python",
     "metadata": {},
     "outputs": [
      {
       "output_type": "stream",
       "stream": "stdout",
       "text": [
        "2410713 1000000\n"
       ]
      }
     ],
     "prompt_number": 12
    },
    {
     "cell_type": "code",
     "collapsed": false,
     "input": [
      "# use matplotlib (imported above) to plot the histogram of rejection samples we generated in the above cell\n",
      "# our histogram is grouped in bins of size 30, we ask matplotlib to automatically \n",
      "# normalize the bin heights (so that the total histogram area sums to 1),\n",
      "# and we generate the label 'Samples' in our legend.  This histogram is shown below in blue.\n",
      "plt.hist(emails.samples, bins=30, normed=True, label=u'Samples');\n",
      "\n",
      "# First we need to generate a set of x values to plot \n",
      "# we use numpy's linspace function to generate 1000 values betwee tmin and tmax\n",
      "# defined in an above cell\n",
      "xvals=np.linspace(tmin, tmax, 1000)\n",
      "\n",
      "# Set up some titles and axes labels\n",
      "plt.title(\"Normalized Inverse Sampling Histogram\")\n",
      "plt.xlabel('t')\n",
      "plt.ylabel('P(t)')\n",
      "\n",
      "# We've already defined our normalized email probability distribution function in an above cell\n",
      "# as well to be p = lambda t: L*t/(t*t + 1.)  We can now run our function p on each value \n",
      "# in our numpy array xvals, plot the pairs in red and generate the label our 'p(t)' and add this\n",
      "# to our histogram plot\n",
      "plt.plot(xvals, p(xvals), 'r', label=u'p(t)')\n",
      "\n",
      "# turn on the legend\n",
      "plt.legend()"
     ],
     "language": "python",
     "metadata": {},
     "outputs": [
      {
       "metadata": {},
       "output_type": "pyout",
       "prompt_number": 13,
       "text": [
        "<matplotlib.legend.Legend at 0xa419350>"
       ]
      },
      {
       "metadata": {},
       "output_type": "display_data",
       "png": "[encoded data removed]",
       "text": [
        "<matplotlib.figure.Figure at 0xa1cc090>"
       ]
      }
     ],
     "prompt_number": 13
    },
    {
     "cell_type": "markdown",
     "metadata": {},
     "source": [
      "Again, we see that our sampling histogram tracks quite closely with the functional form of the distribution and the histograms for both samples are quite close to each other.  We're on the right path! "
     ]
    },
    {
     "cell_type": "markdown",
     "metadata": {},
     "source": [
      "(c) Time both simulations and report the times. Which one was faster and why ? "
     ]
    },
    {
     "cell_type": "code",
     "collapsed": false,
     "input": [
      "# ipython's timeit magic can run an expression (in this case each of our samplers) an arbitrary number (in this case 100) times\n",
      "\n",
      "# run the email_inverse sampler to generate 100000 samples 10 times and time it\n",
      "% timeit -n 10 email_inverse(100000)\n",
      "\n",
      "# run the email_reject sampler to generate 100000 samples 10 times and time it\n",
      "% timeit -n 10 email_reject(100000)"
     ],
     "language": "python",
     "metadata": {},
     "outputs": [
      {
       "output_type": "stream",
       "stream": "stdout",
       "text": [
        "10 loops, best of 3: 4.72 ms per loop\n",
        "10 loops, best of 3: 271 ms per loop"
       ]
      },
      {
       "output_type": "stream",
       "stream": "stdout",
       "text": [
        "\n"
       ]
      }
     ],
     "prompt_number": 14
    },
    {
     "cell_type": "markdown",
     "metadata": {},
     "source": [
      "First of all we've used ipython's timeit magic to time each sampler (the email sampler and the rejection sampler) 100 times. The inverse sampler is much faster (inverse ~ 2.69ms, rejection ~ 214 ms). This makes sense because if you think about the algorithm for each sampler, the inverse sampler keeps every sample generated, whereas the rejection sampler is throwing away approximately 70% of its samples).  Moreover, the rejection sampler generates 2 uniform samples for each sample proposal.  Finally the inverse sampler implementation uses heavily vector optimized numpy array methods almost exclusively whereas the rejection includes slower python non-vectorized loop and branch logic. All in all, we'd expect the inverse sampler to be much faster, and our experiments show this to be true."
     ]
    }
   ],
   "metadata": {}
  }
 ]
}